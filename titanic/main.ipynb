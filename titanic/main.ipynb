{
 "cells": [
  {
   "cell_type": "code",
   "execution_count": 156,
   "metadata": {},
   "outputs": [],
   "source": [
    "import pandas as pd\n",
    "\n",
    "test = pd.read_csv('./test.csv')\n",
    "train = pd.read_csv('./train.csv')"
   ]
  },
  {
   "cell_type": "code",
   "execution_count": 157,
   "metadata": {},
   "outputs": [],
   "source": [
    "def get_x_data(df):\n",
    "    df['Embarked'] = df['Embarked'].replace({'S': 0, 'C': 1, 'Q': 2})\n",
    "    df['Embarked'] = df['Embarked'].fillna(2)\n",
    "    df['Sex'] = df['Sex'].replace({'male': 0, 'female': 1})\n",
    "    df['Sex'] = df['Sex'].fillna(0)\n",
    "    df['FamilySize'] = df['SibSp'] + df['Parch'] + 1\n",
    "    return df\n",
    "\n",
    "\n",
    "def get_y_data(df):\n",
    "    return df['Survived']\n",
    "\n",
    "\n",
    "def clean_data(df):\n",
    "    df.Embarked.dropna(inplace=True)\n",
    "\n",
    "\n",
    "def drop_x_data(df):\n",
    "    data_to_use = df.drop(\n",
    "        ['Cabin', 'Name', 'Ticket', 'PassengerId'], axis='columns')\n",
    "\n",
    "    if 'Survived' in data_to_use.columns:\n",
    "        data_to_use = data_to_use.drop(['Survived'], axis='columns')\n",
    "\n",
    "    return data_to_use\n",
    "\n",
    "\n",
    "def create_custom_columns(df):\n",
    "    df['Age'].fillna(df['Age'].median(), inplace=True)\n",
    "\n",
    "    for dataset in [df]:\n",
    "        title = dataset['Name'].str.extract(' ([A-Za-z]+)\\.', expand=False)\n",
    "        title = title.replace(['Lady', 'Countess', 'Capt', 'Col', 'Don',\n",
    "                              'Dr', 'Major', 'Rev', 'Sir', 'Jonkheer', 'Dona'], 'Rare')\n",
    "        title = title.replace('Mlle', 'Miss').replace(\n",
    "            'Ms', 'Miss').replace('Mme', 'Mrs')\n",
    "\n",
    "        dataset['Title'] = title\n",
    "\n",
    "    title_mapping = {\"Mr\": 1, \"Miss\": 2, \"Mrs\": 3, \"Master\": 4, \"Rare\": 5}\n",
    "\n",
    "    df['Title'] = df['Title'].replace(title_mapping)\n",
    "\n",
    "    return df"
   ]
  },
  {
   "cell_type": "code",
   "execution_count": 158,
   "metadata": {},
   "outputs": [
    {
     "name": "stdout",
     "output_type": "stream",
     "text": [
      "     Pclass  Sex   Age  SibSp  Parch     Fare  Embarked  FamilySize  Title\n",
      "886       2    0  27.0      0      0  13.0000       0.0           1      5\n",
      "241       3    1  28.0      1      0  15.5000       2.0           2      2\n",
      "188       3    0  40.0      1      1  15.5000       2.0           3      1\n",
      "23        1    0  28.0      0      0  35.5000       0.0           1      1\n",
      "412       1    1  33.0      1      0  90.0000       2.0           2      2\n",
      "..      ...  ...   ...    ...    ...      ...       ...         ...    ...\n",
      "327       2    1  36.0      0      0  13.0000       0.0           1      3\n",
      "671       1    0  31.0      1      0  52.0000       0.0           2      1\n",
      "751       3    0   6.0      0      1  12.4750       0.0           2      4\n",
      "421       3    0  21.0      0      0   7.7333       2.0           1      1\n",
      "711       1    0  28.0      0      0  26.5500       0.0           1      1\n",
      "\n",
      "[668 rows x 9 columns]\n",
      "0.7174887892376681\n"
     ]
    }
   ],
   "source": [
    "from sklearn.svm import SVC\n",
    "from sklearn.metrics import accuracy_score\n",
    "from sklearn.model_selection import train_test_split\n",
    "import numpy as np\n",
    "\n",
    "np.random.seed(20)\n",
    "\n",
    "clean_data(train)\n",
    "\n",
    "x = drop_x_data(create_custom_columns(get_x_data(train)))\n",
    "y = get_y_data(train)\n",
    "\n",
    "x_train, x_test, y_train, y_test = train_test_split(x, y, stratify=y, test_size=0.25)\n",
    "\n",
    "print(x_train)\n",
    "model = SVC()\n",
    "model.fit(x_train, y_train)\n",
    "\n",
    "predictions = model.predict(x_test)\n",
    "\n",
    "score = accuracy_score(predictions, y_test)\n",
    "print(score)\n",
    "\n"
   ]
  },
  {
   "cell_type": "code",
   "execution_count": 159,
   "metadata": {},
   "outputs": [
    {
     "name": "stdout",
     "output_type": "stream",
     "text": [
      "       Survived\n",
      "SibSp          \n",
      "0      0.345395\n",
      "1      0.535885\n",
      "2      0.464286\n",
      "3      0.250000\n",
      "4      0.166667\n",
      "5      0.000000\n",
      "8      0.000000\n",
      "       Survived\n",
      "Parch          \n",
      "0      0.343658\n",
      "1      0.550847\n",
      "2      0.500000\n",
      "3      0.600000\n",
      "4      0.000000\n",
      "5      0.200000\n",
      "6      0.000000\n"
     ]
    }
   ],
   "source": [
    "\n",
    "print(train[['Survived', 'SibSp']].groupby(['SibSp']).mean())\n",
    "print(train[['Survived', 'Parch']].groupby(['Parch']).mean())"
   ]
  }
 ],
 "metadata": {
  "kernelspec": {
   "display_name": "Python 3",
   "language": "python",
   "name": "python3"
  },
  "language_info": {
   "codemirror_mode": {
    "name": "ipython",
    "version": 3
   },
   "file_extension": ".py",
   "mimetype": "text/x-python",
   "name": "python",
   "nbconvert_exporter": "python",
   "pygments_lexer": "ipython3",
   "version": "3.11.5"
  }
 },
 "nbformat": 4,
 "nbformat_minor": 2
}
